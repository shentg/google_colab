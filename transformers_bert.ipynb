{
  "nbformat": 4,
  "nbformat_minor": 0,
  "metadata": {
    "colab": {
      "name": "transformers_bert.ipynb",
      "provenance": [],
      "collapsed_sections": [],
      "include_colab_link": true
    },
    "kernelspec": {
      "name": "python3",
      "display_name": "Python 3"
    },
    "accelerator": "TPU"
  },
  "cells": [
    {
      "cell_type": "markdown",
      "metadata": {
        "id": "view-in-github",
        "colab_type": "text"
      },
      "source": [
        "<a href=\"https://colab.research.google.com/github/shentg/google_colab/blob/master/transformers_bert.ipynb\" target=\"_parent\"><img src=\"https://colab.research.google.com/assets/colab-badge.svg\" alt=\"Open In Colab\"/></a>"
      ]
    },
    {
      "cell_type": "code",
      "metadata": {
        "colab_type": "code",
        "id": "0trJmd6DjqBZ",
        "colab": {
          "base_uri": "https://localhost:8080/",
          "height": 36
        },
        "outputId": "60d318d3-e121-44a0-dd43-7e4c3b972a29"
      },
      "source": [
        "from __future__ import absolute_import, division, print_function, unicode_literals\n",
        "\n",
        "# Install TensorFlow\n",
        "try:\n",
        "  # %tensorflow_version only exists in Colab.\n",
        "  %tensorflow_version 2.x\n",
        "except Exception:\n",
        "  pass\n",
        "\n",
        "import tensorflow as tf"
      ],
      "execution_count": 1,
      "outputs": [
        {
          "output_type": "stream",
          "text": [
            "TensorFlow 2.x selected.\n"
          ],
          "name": "stdout"
        }
      ]
    },
    {
      "cell_type": "code",
      "metadata": {
        "id": "xcK92vqUOSoN",
        "colab_type": "code",
        "colab": {}
      },
      "source": [
        "from IPython.display import clear_output\n",
        "!pip install transformers\n",
        "!pip install seqeval\n",
        "clear_output()"
      ],
      "execution_count": 0,
      "outputs": []
    },
    {
      "cell_type": "code",
      "metadata": {
        "id": "fNNQCy2irs-t",
        "colab_type": "code",
        "colab": {
          "base_uri": "https://localhost:8080/",
          "height": 36
        },
        "outputId": "a2c94971-9580-4c4b-e574-37ae9a030313"
      },
      "source": [
        "import os\n",
        "import pprint\n",
        "import tensorflow as tf\n",
        "\n",
        "if 'COLAB_TPU_ADDR' not in os.environ:\n",
        "  print('ERROR: Not connected to a TPU runtime')\n",
        "else:\n",
        "  tpu_address = 'grpc://' + os.environ['COLAB_TPU_ADDR']\n",
        "  print ('TPU address is', tpu_address)\n",
        "\n",
        "  # with tf.Session(tpu_address) as session:\n",
        "  #   devices = session.list_devices()\n",
        "\n",
        "  # print('TPU devices:')\n",
        "  # pprint.pprint(devices)"
      ],
      "execution_count": 3,
      "outputs": [
        {
          "output_type": "stream",
          "text": [
            "TPU address is grpc://10.115.20.154:8470\n"
          ],
          "name": "stdout"
        }
      ]
    },
    {
      "cell_type": "code",
      "metadata": {
        "id": "HMTnotnVviT5",
        "colab_type": "code",
        "colab": {
          "base_uri": "https://localhost:8080/",
          "height": 56
        },
        "outputId": "ea2e4acd-e3d3-4f50-dc61-f9387dfd7826"
      },
      "source": [
        "from google.colab import drive\n",
        "drive.mount('/content/gdrive')"
      ],
      "execution_count": 4,
      "outputs": [
        {
          "output_type": "stream",
          "text": [
            "Drive already mounted at /content/gdrive; to attempt to forcibly remount, call drive.mount(\"/content/gdrive\", force_remount=True).\n"
          ],
          "name": "stdout"
        }
      ]
    },
    {
      "cell_type": "code",
      "metadata": {
        "id": "yqcErXp9GNrj",
        "colab_type": "code",
        "colab": {
          "base_uri": "https://localhost:8080/",
          "height": 206
        },
        "outputId": "71f4cd04-95fb-4f9e-9c0c-ba86d8f6cdf4"
      },
      "source": [
        "%cd /content/gdrive/My Drive/transformers\n",
        "import os\n",
        "from getpass import getpass\n",
        "user = getpass('GitHub user')\n",
        "password = getpass('GitHub password')\n",
        "os.environ['GITHUB_AUTH'] = user + ':' + password\n",
        "!rm -rf vadernlp\n",
        "!git clone https://$GITHUB_AUTH@github.com/shentg/vadernlp.git\n"
      ],
      "execution_count": 5,
      "outputs": [
        {
          "output_type": "stream",
          "text": [
            "/content/gdrive/My Drive/transformers\n",
            "GitHub user··········\n",
            "GitHub password··········\n",
            "Cloning into 'vadernlp'...\n",
            "remote: Enumerating objects: 104, done.\u001b[K\n",
            "remote: Counting objects: 100% (104/104), done.\u001b[K\n",
            "remote: Compressing objects: 100% (53/53), done.\u001b[K\n",
            "remote: Total 104 (delta 38), reused 103 (delta 37), pack-reused 0\u001b[K\n",
            "Receiving objects: 100% (104/104), 28.35 KiB | 1.42 MiB/s, done.\n",
            "Resolving deltas: 100% (38/38), done.\n"
          ],
          "name": "stdout"
        }
      ]
    },
    {
      "cell_type": "code",
      "metadata": {
        "id": "djGLLaQ0vHCE",
        "colab_type": "code",
        "colab": {
          "base_uri": "https://localhost:8080/",
          "height": 36
        },
        "outputId": "7a4b9986-0ed2-4812-f0d3-792dbdd35a31"
      },
      "source": [
        "%cd /content/gdrive/My Drive/transformers/vadernlp"
      ],
      "execution_count": 6,
      "outputs": [
        {
          "output_type": "stream",
          "text": [
            "/content/gdrive/My Drive/transformers/vadernlp\n"
          ],
          "name": "stdout"
        }
      ]
    },
    {
      "cell_type": "code",
      "metadata": {
        "id": "_jGnGthM66tQ",
        "colab_type": "code",
        "colab": {
          "base_uri": "https://localhost:8080/",
          "height": 75
        },
        "outputId": "e01f835d-d9a6-4156-d5a3-e3a14b4ea87a"
      },
      "source": [
        "!echo $PYTHONPATH\n",
        "import os\n",
        "os.environ['PYTHONPATH'] += \":/content/gdrive/My Drive/transformers/vadernlp/\"\n",
        "!echo $PYTHONPATH"
      ],
      "execution_count": 32,
      "outputs": [
        {
          "output_type": "stream",
          "text": [
            "/tensorflow-2.1.0/python3.6:/env/python:/content/gdrive/My Drive/transformers/vadernlp/vadernlp\n",
            "/tensorflow-2.1.0/python3.6:/env/python:/content/gdrive/My Drive/transformers/vadernlp/vadernlp:/content/gdrive/My Drive/transformers/vadernlp/\n"
          ],
          "name": "stdout"
        }
      ]
    },
    {
      "cell_type": "code",
      "metadata": {
        "id": "-ASfx0dWzuOD",
        "colab_type": "code",
        "colab": {
          "base_uri": "https://localhost:8080/",
          "height": 339
        },
        "outputId": "d9ef345b-f73a-4f29-d8ca-ca2d8bf21289"
      },
      "source": [
        "!python3 /content/gdrive/My\\ Drive/transformers/vadernlp/bin/ner.py --data_dir=../data \\\n",
        "--model_type=bert \\\n",
        "--model_name_or_path=bert-base-chinese \\\n",
        "--do_predict=False \\\n",
        "--do_train=True \\\n",
        "--do_eval=False \\\n",
        "--output_dir=./output \\\n",
        "--fp16=True \\\n",
        "--overwrite_output_dir=False \\\n",
        "--save_steps=10000 \\\n",
        "--logging_steps=10000 \\\n",
        "--labels=../data/labels.txt \\\n",
        "--learning_rate=5e-3"
      ],
      "execution_count": 33,
      "outputs": [
        {
          "output_type": "stream",
          "text": [
            "/usr/local/lib/python3.6/dist-packages/IPython/utils/traitlets.py:5: UserWarning: IPython.utils.traitlets has moved to a top-level traitlets package.\n",
            "  warn(\"IPython.utils.traitlets has moved to a top-level traitlets package.\")\n",
            "I0103 11:27:44.508117 139744629540736 ner.py:479] Auto mixed precision is On\n",
            "W0103 11:27:44.508537 139744629540736 ner.py:502] n_device: 1, distributed training: False, 16-bits training: True\n",
            "Traceback (most recent call last):\n",
            "  File \"/content/gdrive/My Drive/transformers/vadernlp/bin/ner.py\", line 652, in <module>\n",
            "    app.run(main)\n",
            "  File \"/tensorflow-2.1.0/python3.6/absl/app.py\", line 299, in run\n",
            "    _run_main(main, args)\n",
            "  File \"/tensorflow-2.1.0/python3.6/absl/app.py\", line 250, in _run_main\n",
            "    sys.exit(main(argv))\n",
            "  File \"/content/gdrive/My Drive/transformers/vadernlp/bin/ner.py\", line 505, in main\n",
            "    labels = get_labels(args[\"labels\"])\n",
            "  File \"/content/gdrive/My Drive/transformers/vadernlp/vadernlp/utils/utils_ner.py\", line 200, in get_labels\n",
            "    with open(path, \"r\") as f:\n",
            "FileNotFoundError: [Errno 2] No such file or directory: '/content/gdrive/My Drive/transformers/data/labels.txt'\n"
          ],
          "name": "stdout"
        }
      ]
    },
    {
      "cell_type": "code",
      "metadata": {
        "id": "EPiUBT941Qp9",
        "colab_type": "code",
        "colab": {
          "base_uri": "https://localhost:8080/",
          "height": 36
        },
        "outputId": "cfe7a5a3-dc58-461a-edae-856b7ef93600"
      },
      "source": [
        "!ls /content/gdrive/My\\ Drive/transformers/vadernlp"
      ],
      "execution_count": 29,
      "outputs": [
        {
          "output_type": "stream",
          "text": [
            "bin  docs  LICENSE  README.md  reference  requirements.txt  TODO.md  vadernlp\n"
          ],
          "name": "stdout"
        }
      ]
    },
    {
      "cell_type": "code",
      "metadata": {
        "id": "_eOz1_EJ1goP",
        "colab_type": "code",
        "colab": {}
      },
      "source": [
        ""
      ],
      "execution_count": 0,
      "outputs": []
    }
  ]
}