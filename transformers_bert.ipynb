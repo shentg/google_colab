{
  "nbformat": 4,
  "nbformat_minor": 0,
  "metadata": {
    "colab": {
      "name": "transformers_bert.ipynb",
      "provenance": [],
      "collapsed_sections": [],
      "include_colab_link": true
    },
    "kernelspec": {
      "name": "python3",
      "display_name": "Python 3"
    },
    "accelerator": "TPU"
  },
  "cells": [
    {
      "cell_type": "markdown",
      "metadata": {
        "id": "view-in-github",
        "colab_type": "text"
      },
      "source": [
        "<a href=\"https://colab.research.google.com/github/shentg/google_colab/blob/master/transformers_bert.ipynb\" target=\"_parent\"><img src=\"https://colab.research.google.com/assets/colab-badge.svg\" alt=\"Open In Colab\"/></a>"
      ]
    },
    {
      "cell_type": "code",
      "metadata": {
        "colab_type": "code",
        "id": "0trJmd6DjqBZ",
        "colab": {
          "base_uri": "https://localhost:8080/",
          "height": 36
        },
        "outputId": "60d318d3-e121-44a0-dd43-7e4c3b972a29"
      },
      "source": [
        "from __future__ import absolute_import, division, print_function, unicode_literals\n",
        "\n",
        "# Install TensorFlow\n",
        "try:\n",
        "  # %tensorflow_version only exists in Colab.\n",
        "  %tensorflow_version 2.x\n",
        "except Exception:\n",
        "  pass\n",
        "\n",
        "import tensorflow as tf"
      ],
      "execution_count": 1,
      "outputs": [
        {
          "output_type": "stream",
          "text": [
            "TensorFlow 2.x selected.\n"
          ],
          "name": "stdout"
        }
      ]
    },
    {
      "cell_type": "code",
      "metadata": {
        "id": "xcK92vqUOSoN",
        "colab_type": "code",
        "colab": {}
      },
      "source": [
        "from IPython.display import clear_output\n",
        "!pip install transformers\n",
        "!pip install seqeval\n",
        "clear_output()"
      ],
      "execution_count": 0,
      "outputs": []
    },
    {
      "cell_type": "code",
      "metadata": {
        "id": "fNNQCy2irs-t",
        "colab_type": "code",
        "colab": {
          "base_uri": "https://localhost:8080/",
          "height": 36
        },
        "outputId": "01d11b6a-5a98-4af0-d426-4d07fa8418a3"
      },
      "source": [
        "import os\n",
        "import pprint\n",
        "import tensorflow as tf\n",
        "\n",
        "if 'COLAB_TPU_ADDR' not in os.environ:\n",
        "  print('ERROR: Not connected to a TPU runtime')\n",
        "else:\n",
        "  tpu_address = 'grpc://' + os.environ['COLAB_TPU_ADDR']\n",
        "  print ('TPU address is', tpu_address)\n",
        "\n",
        "  # with tf.Session(tpu_address) as session:\n",
        "  #   devices = session.list_devices()\n",
        "\n",
        "  # print('TPU devices:')\n",
        "  # pprint.pprint(devices)"
      ],
      "execution_count": 43,
      "outputs": [
        {
          "output_type": "stream",
          "text": [
            "TPU address is grpc://10.115.20.154:8470\n"
          ],
          "name": "stdout"
        }
      ]
    },
    {
      "cell_type": "code",
      "metadata": {
        "id": "HMTnotnVviT5",
        "colab_type": "code",
        "colab": {
          "base_uri": "https://localhost:8080/",
          "height": 56
        },
        "outputId": "ea2e4acd-e3d3-4f50-dc61-f9387dfd7826"
      },
      "source": [
        "from google.colab import drive\n",
        "drive.mount('/content/gdrive')"
      ],
      "execution_count": 4,
      "outputs": [
        {
          "output_type": "stream",
          "text": [
            "Drive already mounted at /content/gdrive; to attempt to forcibly remount, call drive.mount(\"/content/gdrive\", force_remount=True).\n"
          ],
          "name": "stdout"
        }
      ]
    },
    {
      "cell_type": "code",
      "metadata": {
        "id": "yqcErXp9GNrj",
        "colab_type": "code",
        "colab": {
          "base_uri": "https://localhost:8080/",
          "height": 206
        },
        "outputId": "8b30a7c0-4eea-4d66-b23b-5ab762c0290b"
      },
      "source": [
        "%cd /content/gdrive/My Drive/transformers\n",
        "import os\n",
        "from getpass import getpass\n",
        "user = getpass('GitHub user')\n",
        "password = getpass('GitHub password')\n",
        "os.environ['GITHUB_AUTH'] = user + ':' + password\n",
        "!rm -rf vadernlp\n",
        "!git clone https://$GITHUB_AUTH@github.com/shentg/vadernlp.git\n"
      ],
      "execution_count": 34,
      "outputs": [
        {
          "output_type": "stream",
          "text": [
            "/content/gdrive/My Drive/transformers\n",
            "GitHub user··········\n",
            "GitHub password··········\n",
            "Cloning into 'vadernlp'...\n",
            "remote: Enumerating objects: 113, done.\u001b[K\n",
            "remote: Counting objects: 100% (113/113), done.\u001b[K\n",
            "remote: Compressing objects: 100% (60/60), done.\u001b[K\n",
            "remote: Total 113 (delta 39), reused 112 (delta 38), pack-reused 0\u001b[K\n",
            "Receiving objects: 100% (113/113), 4.57 MiB | 13.33 MiB/s, done.\n",
            "Resolving deltas: 100% (39/39), done.\n"
          ],
          "name": "stdout"
        }
      ]
    },
    {
      "cell_type": "code",
      "metadata": {
        "id": "djGLLaQ0vHCE",
        "colab_type": "code",
        "colab": {
          "base_uri": "https://localhost:8080/",
          "height": 36
        },
        "outputId": "0f6148a3-0c9e-47cb-9664-5698a305ea7a"
      },
      "source": [
        "%cd /content/gdrive/My Drive/transformers/vadernlp"
      ],
      "execution_count": 35,
      "outputs": [
        {
          "output_type": "stream",
          "text": [
            "/content/gdrive/My Drive/transformers/vadernlp\n"
          ],
          "name": "stdout"
        }
      ]
    },
    {
      "cell_type": "code",
      "metadata": {
        "id": "_jGnGthM66tQ",
        "colab_type": "code",
        "colab": {
          "base_uri": "https://localhost:8080/",
          "height": 75
        },
        "outputId": "e01f835d-d9a6-4156-d5a3-e3a14b4ea87a"
      },
      "source": [
        "!echo $PYTHONPATH\n",
        "import os\n",
        "os.environ['PYTHONPATH'] += \":/content/gdrive/My Drive/transformers/vadernlp/\"\n",
        "!echo $PYTHONPATH"
      ],
      "execution_count": 32,
      "outputs": [
        {
          "output_type": "stream",
          "text": [
            "/tensorflow-2.1.0/python3.6:/env/python:/content/gdrive/My Drive/transformers/vadernlp/vadernlp\n",
            "/tensorflow-2.1.0/python3.6:/env/python:/content/gdrive/My Drive/transformers/vadernlp/vadernlp:/content/gdrive/My Drive/transformers/vadernlp/\n"
          ],
          "name": "stdout"
        }
      ]
    },
    {
      "cell_type": "code",
      "metadata": {
        "id": "-ASfx0dWzuOD",
        "colab_type": "code",
        "colab": {
          "base_uri": "https://localhost:8080/",
          "height": 1000
        },
        "outputId": "a71bc495-518a-4dc4-f0b7-13fdad439b16"
      },
      "source": [
        "!python3 bin/ner.py --data_dir=/content/gdrive/My\\ Drive/transformers/vadernlp/data \\\n",
        "--model_type=bert \\\n",
        "--model_name_or_path=bert-base-chinese \\\n",
        "--do_predict=False \\\n",
        "--do_train=True \\\n",
        "--do_eval=False \\\n",
        "--output_dir=/content/gdrive/My\\ Drive/transformers/vadernlp/output \\\n",
        "--fp16=True \\\n",
        "--overwrite_output_dir=False \\\n",
        "--save_steps=10000 \\\n",
        "--logging_steps=10000 \\\n",
        "--labels=/content/gdrive/My\\ Drive/transformers/vadernlp/data/labels.txt \\\n",
        "--learning_rate=5e-3 \\\n",
        "--tpu='grpc://10.115.20.154:8470'"
      ],
      "execution_count": 46,
      "outputs": [
        {
          "output_type": "stream",
          "text": [
            "/usr/local/lib/python3.6/dist-packages/IPython/utils/traitlets.py:5: UserWarning: IPython.utils.traitlets has moved to a top-level traitlets package.\n",
            "  warn(\"IPython.utils.traitlets has moved to a top-level traitlets package.\")\n",
            "I0103 11:35:16.474415 139792678094720 ner.py:479] Auto mixed precision is On\n",
            "2020-01-03 11:35:17.482780: E tensorflow/stream_executor/cuda/cuda_driver.cc:351] failed call to cuInit: CUDA_ERROR_NO_DEVICE: no CUDA-capable device is detected\n",
            "I0103 11:35:17.483325 139792678094720 remote.py:177] Entering into master device scope: /job:worker/replica:0/task:0/device:CPU:0\n",
            "INFO:tensorflow:Initializing the TPU system: 10.115.20.154:8470\n",
            "I0103 11:35:17.541968 139792678094720 tpu_strategy_util.py:72] Initializing the TPU system: 10.115.20.154:8470\n",
            "INFO:tensorflow:Clearing out eager caches\n",
            "I0103 11:35:17.682709 139792678094720 tpu_strategy_util.py:100] Clearing out eager caches\n",
            "INFO:tensorflow:Finished initializing TPU system.\n",
            "I0103 11:35:22.535152 139792678094720 tpu_strategy_util.py:123] Finished initializing TPU system.\n",
            "INFO:tensorflow:Found TPU system:\n",
            "I0103 11:35:22.545299 139792678094720 tpu_system_metadata.py:140] Found TPU system:\n",
            "INFO:tensorflow:*** Num TPU Cores: 8\n",
            "I0103 11:35:22.545525 139792678094720 tpu_system_metadata.py:141] *** Num TPU Cores: 8\n",
            "INFO:tensorflow:*** Num TPU Workers: 1\n",
            "I0103 11:35:22.546128 139792678094720 tpu_system_metadata.py:142] *** Num TPU Workers: 1\n",
            "INFO:tensorflow:*** Num TPU Cores Per Worker: 8\n",
            "I0103 11:35:22.546367 139792678094720 tpu_system_metadata.py:144] *** Num TPU Cores Per Worker: 8\n",
            "INFO:tensorflow:*** Available Device: _DeviceAttributes(/job:localhost/replica:0/task:0/device:CPU:0, CPU, 0, 0)\n",
            "I0103 11:35:22.546544 139792678094720 tpu_system_metadata.py:146] *** Available Device: _DeviceAttributes(/job:localhost/replica:0/task:0/device:CPU:0, CPU, 0, 0)\n",
            "INFO:tensorflow:*** Available Device: _DeviceAttributes(/job:localhost/replica:0/task:0/device:XLA_CPU:0, XLA_CPU, 0, 0)\n",
            "I0103 11:35:22.547099 139792678094720 tpu_system_metadata.py:146] *** Available Device: _DeviceAttributes(/job:localhost/replica:0/task:0/device:XLA_CPU:0, XLA_CPU, 0, 0)\n",
            "INFO:tensorflow:*** Available Device: _DeviceAttributes(/job:worker/replica:0/task:0/device:CPU:0, CPU, 0, 0)\n",
            "I0103 11:35:22.547272 139792678094720 tpu_system_metadata.py:146] *** Available Device: _DeviceAttributes(/job:worker/replica:0/task:0/device:CPU:0, CPU, 0, 0)\n",
            "INFO:tensorflow:*** Available Device: _DeviceAttributes(/job:worker/replica:0/task:0/device:TPU:0, TPU, 0, 0)\n",
            "I0103 11:35:22.547379 139792678094720 tpu_system_metadata.py:146] *** Available Device: _DeviceAttributes(/job:worker/replica:0/task:0/device:TPU:0, TPU, 0, 0)\n",
            "INFO:tensorflow:*** Available Device: _DeviceAttributes(/job:worker/replica:0/task:0/device:TPU:1, TPU, 0, 0)\n",
            "I0103 11:35:22.547469 139792678094720 tpu_system_metadata.py:146] *** Available Device: _DeviceAttributes(/job:worker/replica:0/task:0/device:TPU:1, TPU, 0, 0)\n",
            "INFO:tensorflow:*** Available Device: _DeviceAttributes(/job:worker/replica:0/task:0/device:TPU:2, TPU, 0, 0)\n",
            "I0103 11:35:22.547574 139792678094720 tpu_system_metadata.py:146] *** Available Device: _DeviceAttributes(/job:worker/replica:0/task:0/device:TPU:2, TPU, 0, 0)\n",
            "INFO:tensorflow:*** Available Device: _DeviceAttributes(/job:worker/replica:0/task:0/device:TPU:3, TPU, 0, 0)\n",
            "I0103 11:35:22.547665 139792678094720 tpu_system_metadata.py:146] *** Available Device: _DeviceAttributes(/job:worker/replica:0/task:0/device:TPU:3, TPU, 0, 0)\n",
            "INFO:tensorflow:*** Available Device: _DeviceAttributes(/job:worker/replica:0/task:0/device:TPU:4, TPU, 0, 0)\n",
            "I0103 11:35:22.547748 139792678094720 tpu_system_metadata.py:146] *** Available Device: _DeviceAttributes(/job:worker/replica:0/task:0/device:TPU:4, TPU, 0, 0)\n",
            "INFO:tensorflow:*** Available Device: _DeviceAttributes(/job:worker/replica:0/task:0/device:TPU:5, TPU, 0, 0)\n",
            "I0103 11:35:22.547834 139792678094720 tpu_system_metadata.py:146] *** Available Device: _DeviceAttributes(/job:worker/replica:0/task:0/device:TPU:5, TPU, 0, 0)\n",
            "INFO:tensorflow:*** Available Device: _DeviceAttributes(/job:worker/replica:0/task:0/device:TPU:6, TPU, 0, 0)\n",
            "I0103 11:35:22.547915 139792678094720 tpu_system_metadata.py:146] *** Available Device: _DeviceAttributes(/job:worker/replica:0/task:0/device:TPU:6, TPU, 0, 0)\n",
            "INFO:tensorflow:*** Available Device: _DeviceAttributes(/job:worker/replica:0/task:0/device:TPU:7, TPU, 0, 0)\n",
            "I0103 11:35:22.548004 139792678094720 tpu_system_metadata.py:146] *** Available Device: _DeviceAttributes(/job:worker/replica:0/task:0/device:TPU:7, TPU, 0, 0)\n",
            "INFO:tensorflow:*** Available Device: _DeviceAttributes(/job:worker/replica:0/task:0/device:TPU_SYSTEM:0, TPU_SYSTEM, 0, 0)\n",
            "I0103 11:35:22.548092 139792678094720 tpu_system_metadata.py:146] *** Available Device: _DeviceAttributes(/job:worker/replica:0/task:0/device:TPU_SYSTEM:0, TPU_SYSTEM, 0, 0)\n",
            "INFO:tensorflow:*** Available Device: _DeviceAttributes(/job:worker/replica:0/task:0/device:XLA_CPU:0, XLA_CPU, 0, 0)\n",
            "I0103 11:35:22.548215 139792678094720 tpu_system_metadata.py:146] *** Available Device: _DeviceAttributes(/job:worker/replica:0/task:0/device:XLA_CPU:0, XLA_CPU, 0, 0)\n",
            "W0103 11:35:22.548876 139792678094720 ner.py:502] n_device: 8, distributed training: True, 16-bits training: True\n",
            "I0103 11:35:22.696726 139792678094720 configuration_utils.py:185] loading configuration file https://s3.amazonaws.com/models.huggingface.co/bert/bert-base-chinese-config.json from cache at /root/.cache/torch/transformers/8a3b1cfe5da58286e12a0f5d7d182b8d6eca88c08e26c332ee3817548cf7e60a.0c16faba8be66db3f02805c912e4cf94d3c9cffc1f12fa1a39906f9270f76d33\n",
            "I0103 11:35:22.697150 139792678094720 configuration_utils.py:199] Model config {\n",
            "  \"attention_probs_dropout_prob\": 0.1,\n",
            "  \"directionality\": \"bidi\",\n",
            "  \"finetuning_task\": null,\n",
            "  \"hidden_act\": \"gelu\",\n",
            "  \"hidden_dropout_prob\": 0.1,\n",
            "  \"hidden_size\": 768,\n",
            "  \"id2label\": {\n",
            "    \"0\": \"LABEL_0\",\n",
            "    \"1\": \"LABEL_1\"\n",
            "  },\n",
            "  \"initializer_range\": 0.02,\n",
            "  \"intermediate_size\": 3072,\n",
            "  \"is_decoder\": false,\n",
            "  \"label2id\": {\n",
            "    \"LABEL_0\": 0,\n",
            "    \"LABEL_1\": 1\n",
            "  },\n",
            "  \"layer_norm_eps\": 1e-12,\n",
            "  \"max_position_embeddings\": 512,\n",
            "  \"num_attention_heads\": 12,\n",
            "  \"num_hidden_layers\": 12,\n",
            "  \"num_labels\": 8,\n",
            "  \"output_attentions\": false,\n",
            "  \"output_hidden_states\": false,\n",
            "  \"output_past\": true,\n",
            "  \"pooler_fc_size\": 768,\n",
            "  \"pooler_num_attention_heads\": 12,\n",
            "  \"pooler_num_fc_layers\": 3,\n",
            "  \"pooler_size_per_head\": 128,\n",
            "  \"pooler_type\": \"first_token_transform\",\n",
            "  \"pruned_heads\": {},\n",
            "  \"torchscript\": false,\n",
            "  \"type_vocab_size\": 2,\n",
            "  \"use_bfloat16\": false,\n",
            "  \"vocab_size\": 21128\n",
            "}\n",
            "\n",
            "I0103 11:35:22.697288 139792678094720 ner.py:515] Training/evaluation parameters {'logtostderr': False, 'alsologtostderr': False, 'log_dir': '', 'v': 0, 'verbosity': 0, 'stderrthreshold': 'info', 'showprefixforinfo': True, 'run_with_pdb': False, 'pdb_post_mortem': False, 'run_with_profiling': False, 'profile_file': None, 'use_cprofile_for_profiling': True, 'only_check_args': False, 'op_conversion_fallback_to_while_loop': False, 'test_random_seed': 301, 'test_srcdir': '', 'test_tmpdir': '/tmp/absl_testing', 'test_randomize_ordering_seed': '', 'xml_output_file': '', 'data_dir': '/content/gdrive/My Drive/transformers/vadernlp/data', 'model_type': 'bert', 'model_name_or_path': 'bert-base-chinese', 'output_dir': '/content/gdrive/My Drive/transformers/vadernlp/output', 'labels': '/content/gdrive/My Drive/transformers/vadernlp/data/labels.txt', 'config_name': '', 'tokenizer_name': '', 'cache_dir': '', 'max_seq_length': 128, 'tpu': 'grpc://10.115.20.154:8470', 'num_tpu_cores': 8, 'do_train': True, 'do_eval': False, 'do_predict': False, 'evaluate_during_training': False, 'do_lower_case': False, 'per_device_train_batch_size': 8, 'per_device_eval_batch_size': 8, 'gradient_accumulation_steps': 1, 'learning_rate': 0.005, 'weight_decay': 0.0, 'adam_epsilon': 1e-08, 'max_grad_norm': 1.0, 'num_train_epochs': 3, 'max_steps': -1, 'warmup_steps': 0, 'logging_steps': 10000, 'save_steps': 10000, 'eval_all_checkpoints': False, 'no_cuda': False, 'overwrite_output_dir': False, 'overwrite_cache': False, 'seed': 42, 'fp16': True, 'gpus': '0', '?': False, 'help': False, 'helpshort': False, 'helpfull': False, 'helpxml': False, 'n_device': 8}\n",
            "I0103 11:35:22.834944 139792678094720 tokenization_utils.py:398] loading file https://s3.amazonaws.com/models.huggingface.co/bert/bert-base-chinese-vocab.txt from cache at /root/.cache/torch/transformers/8a0c070123c1f794c42a29c6904beb7c1b8715741e235bee04aca2c7636fc83f.9b42061518a39ca00b8b52059fd2bede8daa613f8a8671500e518a8c29de8c00\n",
            "I0103 11:35:22.992399 139792678094720 modeling_tf_utils.py:300] loading weights file https://s3.amazonaws.com/models.huggingface.co/bert/bert-base-chinese-tf_model.h5 from cache at /root/.cache/torch/transformers/987cd265ea1aa9cd7e884caf8dd86c2e764e5114ee9a14a67686c1fe05f7a26c.e6b974f59b54219496a89fd32be7afb020374df0976a796e5ccd3a1733d31537.h5\n",
            "I0103 11:35:38.228969 139792678094720 modeling_tf_utils.py:336] Layers of TFBertForTokenClassification not initialized from pretrained model: ['dropout_37', 'classifier']\n",
            "I0103 11:35:38.229216 139792678094720 modeling_tf_utils.py:339] Layers from pretrained model not used in TFBertForTokenClassification: ['nsp___cls', 'mlm___cls']\n",
            "I0103 11:35:38.230130 139792678094720 ner.py:425] Loading features from cached file /content/gdrive/My Drive/transformers/vadernlp/data/cached_train_bert-base-chinese_128.tf_record\n",
            "2020-01-03 11:35:38.355736: W tensorflow/core/distributed_runtime/eager/remote_tensor_handle_data.cc:75] Unable to destroy remote tensor handles. If you are running a tf.function, it usually indicates some op in the graph gets an error: File system scheme '[local]' not implemented (file: '/content/gdrive/My Drive/transformers/vadernlp/data/cached_train_bert-base-chinese_128.tf_record')\n",
            "Traceback (most recent call last):\n",
            "  File \"bin/ner.py\", line 652, in <module>\n",
            "    app.run(main)\n",
            "  File \"/tensorflow-2.1.0/python3.6/absl/app.py\", line 299, in run\n",
            "    _run_main(main, args)\n",
            "  File \"/tensorflow-2.1.0/python3.6/absl/app.py\", line 250, in _run_main\n",
            "    sys.exit(main(argv))\n",
            "  File \"bin/ner.py\", line 536, in main\n",
            "    args, tokenizer, labels, pad_token_label_id, train_batch_size, mode=\"train\"\n",
            "  File \"bin/ner.py\", line 426, in load_and_cache_examples\n",
            "    dataset, size = load_cache(cached_features_file, args[\"max_seq_length\"])\n",
            "  File \"bin/ner.py\", line 387, in load_cache\n",
            "    return d, count.numpy()\n",
            "  File \"/tensorflow-2.1.0/python3.6/tensorflow_core/python/framework/ops.py\", line 942, in numpy\n",
            "    maybe_arr = self._numpy()  # pylint: disable=protected-access\n",
            "  File \"/tensorflow-2.1.0/python3.6/tensorflow_core/python/framework/ops.py\", line 910, in _numpy\n",
            "    six.raise_from(core._status_to_exception(e.code, e.message), None)\n",
            "  File \"<string>\", line 3, in raise_from\n",
            "tensorflow.python.framework.errors_impl.UnimplementedError: File system scheme '[local]' not implemented (file: '/content/gdrive/My Drive/transformers/vadernlp/data/cached_train_bert-base-chinese_128.tf_record')\n",
            "2020-01-03 11:35:38.870208: W ./tensorflow/core/distributed_runtime/eager/destroy_tensor_handle_node.h:79] Ignoring an error encountered when deleting remote tensors handles: Invalid argument: Unable to find a context_id matching the specified one (15268310201513752285). Perhaps the worker was restarted, or the context was GC'd?\n",
            "Additional GRPC error information:\n",
            "{\"created\":\"@1578051338.868150121\",\"description\":\"Error received from peer\",\"file\":\"external/grpc/src/core/lib/surface/call.cc\",\"file_line\":1039,\"grpc_message\":\"Unable to find a context_id matching the specified one (15268310201513752285). Perhaps the worker was restarted, or the context was GC'd?\",\"grpc_status\":3}\n"
          ],
          "name": "stdout"
        }
      ]
    },
    {
      "cell_type": "code",
      "metadata": {
        "id": "_eOz1_EJ1goP",
        "colab_type": "code",
        "colab": {}
      },
      "source": [
        ""
      ],
      "execution_count": 0,
      "outputs": []
    }
  ]
}